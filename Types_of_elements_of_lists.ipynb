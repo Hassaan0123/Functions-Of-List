{
  "nbformat": 4,
  "nbformat_minor": 0,
  "metadata": {
    "colab": {
      "name": "Types of elements of lists.ipynb",
      "provenance": [],
      "collapsed_sections": []
    },
    "kernelspec": {
      "name": "python3",
      "display_name": "Python 3"
    },
    "language_info": {
      "name": "python"
    }
  },
  "cells": [
    {
      "cell_type": "code",
      "source": [
        "'''\n",
        "a\n",
        "print(\"IoT\")\n",
        "b\n",
        "c\n",
        "'''\n",
        "print(\"Hello World!\") #this line prints necessary"
      ],
      "metadata": {
        "colab": {
          "base_uri": "https://localhost:8080/"
        },
        "id": "bv1MYgr71FMp",
        "outputId": "74c6e945-3e73-4d61-ec8d-2ea927f22084"
      },
      "execution_count": null,
      "outputs": [
        {
          "output_type": "stream",
          "name": "stdout",
          "text": [
            "Hello World!\n"
          ]
        }
      ]
    },
    {
      "cell_type": "code",
      "source": [
        "countries = [\"Pakistan\",\"India\",\"Bangladesh\",\"South Africa\",\"Iran\",\"London\"]\n",
        "countries[3]"
      ],
      "metadata": {
        "colab": {
          "base_uri": "https://localhost:8080/",
          "height": 35
        },
        "id": "_MhU99fh1uU6",
        "outputId": "27863309-b269-4146-ac41-abfe7ec485e1"
      },
      "execution_count": 1,
      "outputs": [
        {
          "output_type": "execute_result",
          "data": {
            "text/plain": [
              "'South Africa'"
            ],
            "application/vnd.google.colaboratory.intrinsic+json": {
              "type": "string"
            }
          },
          "metadata": {},
          "execution_count": 1
        }
      ]
    },
    {
      "cell_type": "code",
      "source": [
        "countries = [\"Pakistan\",\"India\",\"Bangladesh\",\"South Africa\",\"Iran\",\"London\"]\n",
        "countries[-4]"
      ],
      "metadata": {
        "colab": {
          "base_uri": "https://localhost:8080/",
          "height": 35
        },
        "id": "1qeESjsV5tee",
        "outputId": "94a27624-3385-446c-ee58-e59a6aad1fa0"
      },
      "execution_count": null,
      "outputs": [
        {
          "output_type": "execute_result",
          "data": {
            "text/plain": [
              "'Bangladesh'"
            ],
            "application/vnd.google.colaboratory.intrinsic+json": {
              "type": "string"
            }
          },
          "metadata": {},
          "execution_count": 1
        }
      ]
    },
    {
      "cell_type": "code",
      "source": [
        "\n",
        "countries = [\"Pakistan\",\"India\",\"Bangladesh\",\"South Africa\",\"Iran\",\"London\"]\n",
        "countries[:]"
      ],
      "metadata": {
        "colab": {
          "base_uri": "https://localhost:8080/"
        },
        "id": "iw-WKFZM63gd",
        "outputId": "cb795c65-fb59-4598-b5bb-f3ad2c0ad1b8"
      },
      "execution_count": null,
      "outputs": [
        {
          "output_type": "execute_result",
          "data": {
            "text/plain": [
              "['Pakistan', 'India', 'Bangladesh', 'South Africa', 'Iran', 'London']"
            ]
          },
          "metadata": {},
          "execution_count": 2
        }
      ]
    },
    {
      "cell_type": "code",
      "source": [
        "countries = [\"Pakistan\",\"India\",\"Bangladesh\",\"South Africa\",\"Iran\",\"London\"]\n",
        "countries[:]\n",
        "countries.append(\"UK\")\n",
        "countries[:]"
      ],
      "metadata": {
        "colab": {
          "base_uri": "https://localhost:8080/"
        },
        "id": "R6EuIg237WU8",
        "outputId": "7eafedbb-5b62-48e5-e0e9-94e4aeca64e6"
      },
      "execution_count": null,
      "outputs": [
        {
          "output_type": "execute_result",
          "data": {
            "text/plain": [
              "['Pakistan', 'India', 'Bangladesh', 'South Africa', 'Iran', 'London', 'UK']"
            ]
          },
          "metadata": {},
          "execution_count": 3
        }
      ]
    },
    {
      "cell_type": "code",
      "source": [
        "countries = [\"Pakistan\",\"India\",\"Bangladesh\",\"South Africa\",\"Iran\",\"London\"]\n",
        "countries[:]\n",
        "countries.insert(1,\"Afghanistan\")\n",
        "countries[:]"
      ],
      "metadata": {
        "colab": {
          "base_uri": "https://localhost:8080/"
        },
        "id": "PN0cRKi58JpM",
        "outputId": "e680fa83-eb1a-4029-fa32-ccf2722468ac"
      },
      "execution_count": null,
      "outputs": [
        {
          "output_type": "execute_result",
          "data": {
            "text/plain": [
              "['Pakistan',\n",
              " 'Afghanistan',\n",
              " 'India',\n",
              " 'Bangladesh',\n",
              " 'South Africa',\n",
              " 'Iran',\n",
              " 'London']"
            ]
          },
          "metadata": {},
          "execution_count": 4
        }
      ]
    },
    {
      "cell_type": "code",
      "source": [
        "countries = [\"Pakistan\",\"India\",\"Bangladesh\",\"South Africa\",\"Iran\",\"London\"]\n",
        "countries[1:5]"
      ],
      "metadata": {
        "colab": {
          "base_uri": "https://localhost:8080/"
        },
        "id": "8bQTQZgZ9__r",
        "outputId": "58931290-132f-4521-8fed-0b7463ee397e"
      },
      "execution_count": null,
      "outputs": [
        {
          "output_type": "execute_result",
          "data": {
            "text/plain": [
              "['India', 'Bangladesh', 'South Africa', 'Iran']"
            ]
          },
          "metadata": {},
          "execution_count": 5
        }
      ]
    },
    {
      "cell_type": "code",
      "source": [
        "countries = [\"Pakistan\",\"India\",\"Bangladesh\",\"South Africa\",\"Iran\",\"London\"]\n",
        "countries.reverse()\n",
        "countries[1:4]"
      ],
      "metadata": {
        "colab": {
          "base_uri": "https://localhost:8080/"
        },
        "id": "2ZNLGq1LAQuA",
        "outputId": "5f12ed38-d248-4f32-c16f-2c0446d6cd92"
      },
      "execution_count": null,
      "outputs": [
        {
          "output_type": "execute_result",
          "data": {
            "text/plain": [
              "['Iran', 'South Africa', 'Bangladesh']"
            ]
          },
          "metadata": {},
          "execution_count": 6
        }
      ]
    },
    {
      "cell_type": "code",
      "source": [
        "countries = [\"Pakistan\",\"India\",\"Bangladesh\",\"South Africa\",\"Iran\",\"London\"]\n",
        "countries[3]\n",
        "del countries[0]\n",
        "countries[:]"
      ],
      "metadata": {
        "colab": {
          "base_uri": "https://localhost:8080/"
        },
        "id": "IfsFcaDjD_0U",
        "outputId": "b7273058-900c-4105-8f01-bbc4f1e8de79"
      },
      "execution_count": null,
      "outputs": [
        {
          "output_type": "execute_result",
          "data": {
            "text/plain": [
              "['India', 'Bangladesh', 'South Africa', 'Iran', 'London']"
            ]
          },
          "metadata": {},
          "execution_count": 7
        }
      ]
    },
    {
      "cell_type": "code",
      "source": [
        "countries = [\"Pakistan\",\"India\",\"Bangladesh\",\"South Africa\",\"Iran\",\"London\"]\n",
        "countries[3]\n",
        "countries.remove(\"India\")\n",
        "countries[:]"
      ],
      "metadata": {
        "colab": {
          "base_uri": "https://localhost:8080/"
        },
        "id": "fpW7atVVF0Wy",
        "outputId": "2683a609-3765-4acb-c282-1d9299603143"
      },
      "execution_count": null,
      "outputs": [
        {
          "output_type": "execute_result",
          "data": {
            "text/plain": [
              "['Pakistan', 'Bangladesh', 'South Africa', 'Iran', 'London']"
            ]
          },
          "metadata": {},
          "execution_count": 8
        }
      ]
    },
    {
      "cell_type": "code",
      "source": [
        "student1 = [\"Hassaan\", 8 ,\"IoT\",\"Section-A\"]\n",
        "student1[3]"
      ],
      "metadata": {
        "colab": {
          "base_uri": "https://localhost:8080/",
          "height": 35
        },
        "id": "mzdTUjpp52l2",
        "outputId": "48ea21b3-1dda-42dd-ba16-66d00d7e75c7"
      },
      "execution_count": null,
      "outputs": [
        {
          "output_type": "execute_result",
          "data": {
            "text/plain": [
              "'Section-A'"
            ],
            "application/vnd.google.colaboratory.intrinsic+json": {
              "type": "string"
            }
          },
          "metadata": {},
          "execution_count": 9
        }
      ]
    },
    {
      "cell_type": "code",
      "source": [
        ""
      ],
      "metadata": {
        "id": "PY3HgON76YyF"
      },
      "execution_count": null,
      "outputs": []
    }
  ]
}